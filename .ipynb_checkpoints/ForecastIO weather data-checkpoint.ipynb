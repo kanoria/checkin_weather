{
 "cells": [
  {
   "cell_type": "code",
   "execution_count": 14,
   "metadata": {
    "collapsed": true
   },
   "outputs": [],
   "source": [
    "import forecastio\n",
    "import datetime\n",
    "import pandas as pd\n",
    "import requests\n",
    "import pickle"
   ]
  },
  {
   "cell_type": "code",
   "execution_count": 15,
   "metadata": {
    "collapsed": true
   },
   "outputs": [],
   "source": [
    "api_key = \"8a8bd95f58ebd66ceda140c4cae56f91\"\n",
    "\n",
    "nyc_lat = \"40.748817\"\n",
    "nyc_lon = \"-73.985428\"\n",
    "\n",
    "tokyo_lat = \"35.685360\"\n",
    "tokyo_lon = \"139.753372\"\n",
    "\n",
    "nyc_weather = {}\n",
    "tokyo_weather = {}\n",
    "\n",
    "start_date = [2012,4,12]\n",
    "end_date = [2013,2,16]"
   ]
  },
  {
   "cell_type": "code",
   "execution_count": 35,
   "metadata": {
    "collapsed": false
   },
   "outputs": [
    {
     "ename": "SyntaxError",
     "evalue": "invalid syntax (<ipython-input-35-80c4c3257ea5>, line 19)",
     "output_type": "error",
     "traceback": [
      "\u001b[0;36m  File \u001b[0;32m\"<ipython-input-35-80c4c3257ea5>\"\u001b[0;36m, line \u001b[0;32m19\u001b[0m\n\u001b[0;31m    Forecast forecast\u001b[0m\n\u001b[0m                    ^\u001b[0m\n\u001b[0;31mSyntaxError\u001b[0m\u001b[0;31m:\u001b[0m invalid syntax\n"
     ]
    }
   ],
   "source": [
    "def get_weather(start_date, end_date, lat, lon, api_key):\n",
    "    \n",
    "    year_raw = start_date[0]\n",
    "    month_raw = start_date[1]\n",
    "    day_raw = start_date[2]\n",
    "    \n",
    "    weather_data = []\n",
    "    \n",
    "    while [year_raw, month_raw, day_raw]!= end_date:\n",
    "        \n",
    "        year = str(year_raw)\n",
    "        month = \"%02d\" % (month_raw)\n",
    "        day = \"%02d\" % (day_raw)\n",
    "\n",
    "        url = \"https://api.forecast.io/forecast/\"+api_key+\"/\"+lat+\",\"+lon+\",\"+year+\"-\"+month+\"-\"+day+\"T12:00:00\"\n",
    "        \n",
    "        print url\n",
    "        \n",
    "        Forecast forecast\n",
    "        \n",
    "        forecast = forecastio.manual(url)\n",
    "        \n",
    "        weather_data.append(forecast)\n",
    "        \n",
    "        print weather_data\n",
    "        \n",
    "        if (month_raw in [1,3,5,7,8,10] and day_raw == 31):\n",
    "            day_raw = 1\n",
    "            month_raw += 1\n",
    "        \n",
    "        elif (month_raw in [4, 6, 9, 11] and day_raw == 30):\n",
    "            day_raw = 1\n",
    "            month_raw += 1\n",
    "            \n",
    "        elif (month_raw == 2 and day_raw ==28 and year_raw%4 == 0):\n",
    "            day_raw += 1\n",
    "            \n",
    "        elif (month_raw == 2 and day_raw == 29):\n",
    "            day_raw = 1\n",
    "            month_raw = 3            \n",
    "        \n",
    "        elif (month_raw == 12 and day_raw == 31):\n",
    "            year_raw += 1\n",
    "            month_raw = 1\n",
    "            day_raw = 1\n",
    "            \n",
    "        else:\n",
    "            day_raw += 1\n",
    "            \n",
    "    return weather_data"
   ]
  },
  {
   "cell_type": "code",
   "execution_count": 32,
   "metadata": {
    "collapsed": false
   },
   "outputs": [
    {
     "name": "stdout",
     "output_type": "stream",
     "text": [
      "None\n"
     ]
    }
   ],
   "source": [
    "# def get_weather(start_date, end_date, lat, lon, api_key):\n",
    "    \n",
    "#     year = start_date[0]\n",
    "#     month = start_date[1]\n",
    "#     day = start_date[2]\n",
    "    \n",
    "#     weather_data = []\n",
    "    \n",
    "#     while [year, month, day]!= end_date:\n",
    "\n",
    "#         time = datetime.datetime(year, month, day, 12, 0, 0)\n",
    "        \n",
    "#         forecast = forecastio.load_forecast(api_key, lat, lon, time=time)\n",
    "        \n",
    "#         by_day = forecast.daily()\n",
    "        \n",
    "#         print by_day.summary\n",
    "        \n",
    "        \n",
    "#         if (month in [1,3,5,7,8,10] and day == 31):\n",
    "#             day = 1\n",
    "#             month += 1\n",
    "        \n",
    "#         elif (month in [4, 6, 9, 11] and day == 30):\n",
    "#             day = 1\n",
    "#             month += 1\n",
    "            \n",
    "#         elif (month == 2 and day ==28 and year%4 == 0):\n",
    "#             day += 1\n",
    "            \n",
    "#         elif (month == 2 and day == 29):\n",
    "#             day = 1\n",
    "#             month = 3            \n",
    "        \n",
    "#         elif (month == 12 and day == 31):\n",
    "#             year += 1\n",
    "#             month = 1\n",
    "#             day = 1\n",
    "            \n",
    "#         else:\n",
    "#             day += 1\n",
    "            \n",
    "#     return weather_data\n",
    "\n",
    "# nyc_weather = get_weather([2012,4,12], [2012,4,13], nyc_lat, nyc_lon, api_key)"
   ]
  },
  {
   "cell_type": "code",
   "execution_count": 36,
   "metadata": {
    "collapsed": false
   },
   "outputs": [
    {
     "name": "stdout",
     "output_type": "stream",
     "text": [
      "https://api.forecast.io/forecast/8a8bd95f58ebd66ceda140c4cae56f91/40.748817,-73.985428,2012-04-12T12:00:00\n",
      "[<forecastio.models.Forecast object at 0x1135181d0>]\n"
     ]
    }
   ],
   "source": [
    "nyc_weather = get_weather([2012,4,12], [2012,4,13], nyc_lat, nyc_lon, api_key)"
   ]
  },
  {
   "cell_type": "code",
   "execution_count": null,
   "metadata": {
    "collapsed": true
   },
   "outputs": [],
   "source": []
  }
 ],
 "metadata": {
  "kernelspec": {
   "display_name": "Python 2",
   "language": "python",
   "name": "python2"
  },
  "language_info": {
   "codemirror_mode": {
    "name": "ipython",
    "version": 2
   },
   "file_extension": ".py",
   "mimetype": "text/x-python",
   "name": "python",
   "nbconvert_exporter": "python",
   "pygments_lexer": "ipython2",
   "version": "2.7.11"
  }
 },
 "nbformat": 4,
 "nbformat_minor": 0
}
