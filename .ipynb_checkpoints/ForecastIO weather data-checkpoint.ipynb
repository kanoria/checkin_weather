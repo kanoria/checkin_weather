{
 "cells": [
  {
   "cell_type": "code",
   "execution_count": 14,
   "metadata": {
    "collapsed": true
   },
   "outputs": [],
   "source": [
    "import forecastio\n",
    "import datetime\n",
    "import pandas as pd\n",
    "import requests\n",
    "import pickle"
   ]
  },
  {
   "cell_type": "code",
   "execution_count": 15,
   "metadata": {
    "collapsed": true
   },
   "outputs": [],
   "source": [
    "api_key = \"8a8bd95f58ebd66ceda140c4cae56f91\"\n",
    "\n",
    "nyc_lat = \"40.748817\"\n",
    "nyc_lon = \"-73.985428\"\n",
    "\n",
    "tokyo_lat = \"35.685360\"\n",
    "tokyo_lon = \"139.753372\"\n",
    "\n",
    "nyc_weather = {}\n",
    "tokyo_weather = {}\n",
    "\n",
    "start_date = [2012,4,12]\n",
    "end_date = [2013,2,16]"
   ]
  },
  {
   "cell_type": "code",
   "execution_count": 40,
   "metadata": {
    "collapsed": false
   },
   "outputs": [],
   "source": [
    "def get_weather(start_date, end_date, lat, lon, api_key):\n",
    "    \n",
    "    year_raw = start_date[0]\n",
    "    month_raw = start_date[1]\n",
    "    day_raw = start_date[2]\n",
    "    \n",
    "    weather_data = []\n",
    "    \n",
    "    while [year_raw, month_raw, day_raw]!= end_date:\n",
    "        \n",
    "        year = str(year_raw)\n",
    "        month = \"%02d\" % (month_raw)\n",
    "        day = \"%02d\" % (day_raw)\n",
    "\n",
    "        url = \"https://api.forecast.io/forecast/\"+api_key+\"/\"+lat+\",\"+lon+\",\"+year+\"-\"+month+\"-\"+day+\"T12:00:00\"\n",
    "        \n",
    "        print url\n",
    "                \n",
    "        forecast = forecastio.manual(url)\n",
    "        print forecast.json\n",
    "        \n",
    "        weather_data.append(forecast)\n",
    "        \n",
    "        if (month_raw in [1,3,5,7,8,10] and day_raw == 31):\n",
    "            day_raw = 1\n",
    "            month_raw += 1\n",
    "        \n",
    "        elif (month_raw in [4, 6, 9, 11] and day_raw == 30):\n",
    "            day_raw = 1\n",
    "            month_raw += 1\n",
    "            \n",
    "        elif (month_raw == 2 and day_raw ==28 and year_raw%4 == 0):\n",
    "            day_raw += 1\n",
    "            \n",
    "        elif (month_raw == 2 and day_raw == 29):\n",
    "            day_raw = 1\n",
    "            month_raw = 3            \n",
    "        \n",
    "        elif (month_raw == 12 and day_raw == 31):\n",
    "            year_raw += 1\n",
    "            month_raw = 1\n",
    "            day_raw = 1\n",
    "            \n",
    "        else:\n",
    "            day_raw += 1\n",
    "            \n",
    "    return weather_data"
   ]
  },
  {
   "cell_type": "code",
   "execution_count": 32,
   "metadata": {
    "collapsed": false
   },
   "outputs": [
    {
     "name": "stdout",
     "output_type": "stream",
     "text": [
      "None\n"
     ]
    }
   ],
   "source": [
    "# def get_weather(start_date, end_date, lat, lon, api_key):\n",
    "    \n",
    "#     year = start_date[0]\n",
    "#     month = start_date[1]\n",
    "#     day = start_date[2]\n",
    "    \n",
    "#     weather_data = []\n",
    "    \n",
    "#     while [year, month, day]!= end_date:\n",
    "\n",
    "#         time = datetime.datetime(year, month, day, 12, 0, 0)\n",
    "        \n",
    "#         forecast = forecastio.load_forecast(api_key, lat, lon, time=time)\n",
    "        \n",
    "#         by_day = forecast.daily()\n",
    "        \n",
    "#         print by_day.summary\n",
    "        \n",
    "        \n",
    "#         if (month in [1,3,5,7,8,10] and day == 31):\n",
    "#             day = 1\n",
    "#             month += 1\n",
    "        \n",
    "#         elif (month in [4, 6, 9, 11] and day == 30):\n",
    "#             day = 1\n",
    "#             month += 1\n",
    "            \n",
    "#         elif (month == 2 and day ==28 and year%4 == 0):\n",
    "#             day += 1\n",
    "            \n",
    "#         elif (month == 2 and day == 29):\n",
    "#             day = 1\n",
    "#             month = 3            \n",
    "        \n",
    "#         elif (month == 12 and day == 31):\n",
    "#             year += 1\n",
    "#             month = 1\n",
    "#             day = 1\n",
    "            \n",
    "#         else:\n",
    "#             day += 1\n",
    "            \n",
    "#     return weather_data\n",
    "\n",
    "# nyc_weather = get_weather([2012,4,12], [2012,4,13], nyc_lat, nyc_lon, api_key)"
   ]
  },
  {
   "cell_type": "code",
   "execution_count": 41,
   "metadata": {
    "collapsed": false
   },
   "outputs": [
    {
     "name": "stdout",
     "output_type": "stream",
     "text": [
      "https://api.forecast.io/forecast/8a8bd95f58ebd66ceda140c4cae56f91/40.748817,-73.985428,2012-04-12T12:00:00\n",
      "{u'hourly': {u'icon': u'partly-cloudy-day', u'data': [{u'temperature': 47.65, u'icon': u'cloudy', u'dewPoint': 32.86, u'humidity': 0.56, u'visibility': 10, u'summary': u'Overcast', u'apparentTemperature': 42.7, u'pressure': 1012.22, u'windSpeed': 11.26, u'cloudCover': 0.94, u'time': 1334203200, u'windBearing': 334, u'precipIntensity': 0, u'precipProbability': 0}, {u'temperature': 46.65, u'icon': u'cloudy', u'dewPoint': 33.75, u'humidity': 0.61, u'visibility': 10, u'summary': u'Overcast', u'apparentTemperature': 41.58, u'pressure': 1012.4, u'windSpeed': 10.88, u'cloudCover': 0.94, u'time': 1334206800, u'windBearing': 335, u'precipIntensity': 0, u'precipProbability': 0}, {u'temperature': 46.55, u'icon': u'partly-cloudy-night', u'dewPoint': 33.78, u'humidity': 0.61, u'visibility': 10, u'summary': u'Mostly Cloudy', u'apparentTemperature': 41.31, u'pressure': 1012.45, u'windSpeed': 11.27, u'cloudCover': 0.68, u'time': 1334210400, u'windBearing': 328, u'precipIntensity': 0, u'precipProbability': 0}, {u'temperature': 45.55, u'icon': u'partly-cloudy-night', u'dewPoint': 33.03, u'humidity': 0.61, u'visibility': 10, u'summary': u'Partly Cloudy', u'apparentTemperature': 41.62, u'pressure': 1012.35, u'windSpeed': 7.4, u'cloudCover': 0.49, u'time': 1334214000, u'windBearing': 313, u'precipIntensity': 0, u'precipProbability': 0}, {u'temperature': 44.55, u'icon': u'partly-cloudy-night', u'dewPoint': 32.9, u'humidity': 0.63, u'visibility': 10, u'summary': u'Mostly Cloudy', u'apparentTemperature': 40.2, u'pressure': 1012.6, u'windSpeed': 7.83, u'cloudCover': 0.68, u'time': 1334217600, u'windBearing': 319, u'precipIntensity': 0, u'precipProbability': 0}, {u'temperature': 44.57, u'icon': u'partly-cloudy-night', u'dewPoint': 37.98, u'humidity': 0.78, u'visibility': 10, u'summary': u'Mostly Cloudy', u'apparentTemperature': 40.09, u'pressure': 1011.73, u'windSpeed': 8.12, u'cloudCover': 0.77, u'time': 1334221200, u'windBearing': 358, u'precipIntensity': 0, u'precipProbability': 0}, {u'temperature': 43.55, u'icon': u'clear-night', u'dewPoint': 33.65, u'humidity': 0.68, u'visibility': 10, u'summary': u'Clear', u'apparentTemperature': 39.29, u'pressure': 1013.55, u'windSpeed': 7.23, u'cloudCover': 0.17, u'time': 1334224800, u'windBearing': 319, u'precipIntensity': 0, u'precipProbability': 0}, {u'temperature': 43.8, u'icon': u'partly-cloudy-day', u'dewPoint': 33.89, u'humidity': 0.68, u'visibility': 10, u'summary': u'Partly Cloudy', u'apparentTemperature': 38.11, u'pressure': 1014.47, u'windSpeed': 10.61, u'cloudCover': 0.43, u'time': 1334228400, u'windBearing': 332, u'precipIntensity': 0, u'precipProbability': 0}, {u'temperature': 44.87, u'icon': u'clear-day', u'dewPoint': 33.76, u'humidity': 0.65, u'visibility': 10, u'summary': u'Clear', u'apparentTemperature': 40.2, u'pressure': 1014.95, u'windSpeed': 8.71, u'cloudCover': 0.17, u'time': 1334232000, u'windBearing': 345, u'precipIntensity': 0, u'precipProbability': 0}, {u'temperature': 47.87, u'icon': u'clear-day', u'dewPoint': 33.7, u'humidity': 0.58, u'visibility': 10, u'summary': u'Clear', u'apparentTemperature': 42.38, u'pressure': 1015.42, u'windSpeed': 13.25, u'cloudCover': 0.07, u'time': 1334235600, u'windBearing': 346, u'precipIntensity': 0, u'precipProbability': 0}, {u'temperature': 50.36, u'icon': u'partly-cloudy-day', u'dewPoint': 33.2, u'humidity': 0.52, u'visibility': 10, u'summary': u'Partly Cloudy', u'apparentTemperature': 50.36, u'pressure': 1015.82, u'windSpeed': 13.41, u'cloudCover': 0.26, u'time': 1334239200, u'windBearing': 354, u'precipIntensity': 0, u'precipProbability': 0}, {u'temperature': 51.1, u'icon': u'partly-cloudy-day', u'dewPoint': 39.18, u'humidity': 0.64, u'visibility': 10, u'summary': u'Mostly Cloudy', u'apparentTemperature': 51.1, u'pressure': 1014.8, u'windSpeed': 12.44, u'cloudCover': 0.73, u'time': 1334242800, u'windBearing': 356, u'precipIntensity': 0, u'precipProbability': 0}, {u'temperature': 55.17, u'icon': u'partly-cloudy-day', u'dewPoint': 31.18, u'humidity': 0.4, u'visibility': 10, u'summary': u'Partly Cloudy', u'apparentTemperature': 55.17, u'pressure': 1015.75, u'windSpeed': 13.2, u'cloudCover': 0.5, u'time': 1334246400, u'windBearing': 357, u'precipIntensity': 0, u'precipProbability': 0}, {u'temperature': 55.51, u'icon': u'cloudy', u'dewPoint': 29.69, u'humidity': 0.37, u'visibility': 10, u'summary': u'Overcast', u'apparentTemperature': 55.51, u'pressure': 1015.42, u'windSpeed': 9.43, u'cloudCover': 0.94, u'time': 1334250000, u'windBearing': 343, u'precipIntensity': 0, u'precipProbability': 0}, {u'temperature': 56.11, u'icon': u'partly-cloudy-day', u'dewPoint': 29.89, u'humidity': 0.37, u'visibility': 10, u'summary': u'Mostly Cloudy', u'apparentTemperature': 56.11, u'pressure': 1015.48, u'windSpeed': 10.6, u'cloudCover': 0.9, u'time': 1334253600, u'windBearing': 318, u'precipIntensity': 0, u'precipProbability': 0}, {u'temperature': 56.35, u'icon': u'wind', u'dewPoint': 28.88, u'humidity': 0.35, u'visibility': 10, u'summary': u'Breezy and Mostly Cloudy', u'apparentTemperature': 56.35, u'pressure': 1015.5, u'windSpeed': 18.8, u'cloudCover': 0.79, u'time': 1334257200, u'windBearing': 351, u'precipIntensity': 0, u'precipProbability': 0}, {u'temperature': 58.13, u'icon': u'partly-cloudy-day', u'dewPoint': 27.55, u'humidity': 0.31, u'visibility': 10, u'summary': u'Partly Cloudy', u'apparentTemperature': 58.13, u'pressure': 1015.31, u'windSpeed': 14.69, u'cloudCover': 0.49, u'time': 1334260800, u'windBearing': 345, u'precipIntensity': 0, u'precipProbability': 0}, {u'temperature': 53.9, u'icon': u'partly-cloudy-day', u'dewPoint': 39.22, u'humidity': 0.57, u'visibility': 10, u'summary': u'Mostly Cloudy', u'apparentTemperature': 53.9, u'pressure': 1014.91, u'windSpeed': 11.56, u'cloudCover': 0.9, u'time': 1334264400, u'windBearing': 341, u'precipIntensity': 0, u'precipProbability': 0}, {u'temperature': 57.29, u'icon': u'partly-cloudy-day', u'dewPoint': 26.35, u'humidity': 0.3, u'visibility': 10, u'summary': u'Mostly Cloudy', u'apparentTemperature': 57.29, u'pressure': 1015.71, u'windSpeed': 9.2, u'cloudCover': 0.75, u'time': 1334268000, u'windBearing': 359, u'precipIntensity': 0, u'precipProbability': 0}, {u'temperature': 56.12, u'icon': u'partly-cloudy-day', u'dewPoint': 27.59, u'humidity': 0.33, u'visibility': 10, u'summary': u'Partly Cloudy', u'apparentTemperature': 56.12, u'pressure': 1016.2, u'windSpeed': 12.7, u'cloudCover': 0.41, u'time': 1334271600, u'windBearing': 341, u'precipIntensity': 0, u'precipProbability': 0}, {u'temperature': 54.48, u'icon': u'partly-cloudy-night', u'dewPoint': 29.68, u'humidity': 0.38, u'visibility': 10, u'summary': u'Partly Cloudy', u'apparentTemperature': 54.48, u'pressure': 1016.94, u'windSpeed': 8.77, u'cloudCover': 0.49, u'time': 1334275200, u'windBearing': 8, u'precipIntensity': 0, u'precipProbability': 0}, {u'temperature': 53.97, u'icon': u'cloudy', u'dewPoint': 29.77, u'humidity': 0.39, u'visibility': 10, u'summary': u'Overcast', u'apparentTemperature': 53.97, u'pressure': 1017.89, u'windSpeed': 9.68, u'cloudCover': 0.94, u'time': 1334278800, u'windBearing': 8, u'precipIntensity': 0, u'precipProbability': 0}, {u'temperature': 52.87, u'icon': u'partly-cloudy-night', u'dewPoint': 30.06, u'humidity': 0.41, u'visibility': 10, u'summary': u'Mostly Cloudy', u'apparentTemperature': 52.87, u'pressure': 1018.44, u'windSpeed': 10.54, u'cloudCover': 0.9, u'time': 1334282400, u'windBearing': 357, u'precipIntensity': 0, u'precipProbability': 0}, {u'temperature': 49.21, u'icon': u'partly-cloudy-night', u'dewPoint': 39.31, u'humidity': 0.69, u'visibility': 10, u'summary': u'Partly Cloudy', u'apparentTemperature': 46.49, u'pressure': 1018.18, u'windSpeed': 6.47, u'cloudCover': 0.49, u'time': 1334286000, u'windBearing': 352, u'precipIntensity': 0, u'precipProbability': 0}], u'summary': u'Mostly cloudy until night.'}, u'currently': {u'temperature': 55.17, u'icon': u'partly-cloudy-day', u'dewPoint': 31.18, u'humidity': 0.4, u'visibility': 10, u'summary': u'Partly Cloudy', u'apparentTemperature': 55.17, u'pressure': 1015.75, u'windSpeed': 13.2, u'cloudCover': 0.5, u'time': 1334246400, u'windBearing': 357, u'precipIntensity': 0, u'precipProbability': 0}, u'longitude': -73.985428, u'flags': {u'units': u'us', u'sources': [u'isd'], u'isd-stations': [u'725025-94741', u'725030-14732', u'725060-94728', u'997271-99999', u'997743-99999']}, u'daily': {u'data': [{u'apparentTemperatureMinTime': 1334228400, u'cloudCover': 0.62, u'temperatureMin': 43.55, u'summary': u'Mostly cloudy throughout the day.', u'dewPoint': 32.54, u'apparentTemperatureMax': 58.13, u'temperatureMax': 58.13, u'temperatureMaxTime': 1334260800, u'windBearing': 344, u'moonPhase': 0.72, u'visibility': 10, u'sunsetTime': 1334273597, u'pressure': 1014.94, u'precipProbability': 0, u'apparentTemperatureMin': 38.11, u'precipIntensityMax': 0, u'icon': u'partly-cloudy-day', u'apparentTemperatureMaxTime': 1334260800, u'humidity': 0.52, u'windSpeed': 10.42, u'time': 1334203200, u'precipIntensity': 0, u'sunriseTime': 1334226121, u'temperatureMinTime': 1334224800}]}, u'offset': -4, u'latitude': 40.748817, u'timezone': u'America/New_York'}\n"
     ]
    }
   ],
   "source": [
    "nyc_weather = get_weather([2012,4,12], [2012,4,13], nyc_lat, nyc_lon, api_key)"
   ]
  },
  {
   "cell_type": "code",
   "execution_count": null,
   "metadata": {
    "collapsed": true
   },
   "outputs": [],
   "source": []
  }
 ],
 "metadata": {
  "kernelspec": {
   "display_name": "Python 2",
   "language": "python",
   "name": "python2"
  },
  "language_info": {
   "codemirror_mode": {
    "name": "ipython",
    "version": 2
   },
   "file_extension": ".py",
   "mimetype": "text/x-python",
   "name": "python",
   "nbconvert_exporter": "python",
   "pygments_lexer": "ipython2",
   "version": "2.7.11"
  }
 },
 "nbformat": 4,
 "nbformat_minor": 0
}
