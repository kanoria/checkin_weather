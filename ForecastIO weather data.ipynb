{
 "cells": [
  {
   "cell_type": "code",
   "execution_count": 1,
   "metadata": {
    "collapsed": true
   },
   "outputs": [],
   "source": [
    "import forecastio\n",
    "import datetime\n",
    "import pandas as pd\n",
    "import pickle"
   ]
  },
  {
   "cell_type": "code",
   "execution_count": 2,
   "metadata": {
    "collapsed": false
   },
   "outputs": [],
   "source": [
    "def get_weather(start_date, end_date, lat, lon, api_key):\n",
    "    \n",
    "    year_raw = start_date[0]\n",
    "    month_raw = start_date[1]\n",
    "    day_raw = start_date[2]\n",
    "    \n",
    "    weather_data = []\n",
    "    \n",
    "    while [year_raw, month_raw, day_raw]!= end_date:\n",
    "        \n",
    "        year = str(year_raw)\n",
    "        month = \"%02d\" % (month_raw)\n",
    "        day = \"%02d\" % (day_raw)\n",
    "\n",
    "        url = \"https://api.forecast.io/forecast/\"+api_key+\"/\"+lat+\",\"+lon+\",\"+year+\"-\"+month+\"-\"+day+\"T12:00:00\"\n",
    "                        \n",
    "        forecast = forecastio.manual(url)\n",
    "        \n",
    "        weather_data.append(forecast.json)\n",
    "        \n",
    "        if (month_raw in [1,3,5,7,8,10] and day_raw == 31):\n",
    "            day_raw = 1\n",
    "            month_raw += 1\n",
    "        \n",
    "        elif (month_raw in [4, 6, 9, 11] and day_raw == 30):\n",
    "            day_raw = 1\n",
    "            month_raw += 1\n",
    "            \n",
    "        elif (month_raw == 2 and day_raw ==28 and year_raw%4 == 0):\n",
    "            day_raw += 1\n",
    "            \n",
    "        elif (month_raw == 2 and day_raw == 29):\n",
    "            day_raw = 1\n",
    "            month_raw = 3            \n",
    "        \n",
    "        elif (month_raw == 12 and day_raw == 31):\n",
    "            year_raw += 1\n",
    "            month_raw = 1\n",
    "            day_raw = 1\n",
    "            \n",
    "        else:\n",
    "            day_raw += 1\n",
    "            \n",
    "    return weather_data"
   ]
  },
  {
   "cell_type": "code",
   "execution_count": 10,
   "metadata": {
    "collapsed": true
   },
   "outputs": [],
   "source": [
    "def parse_weather_data(weather_file):\n",
    "    \n",
    "    parsed_data = {}\n",
    "    \n",
    "    for i in range(len(weather_file)):\n",
    "        unixtime = weather_file[i]['daily']['data'][0]['time']\n",
    "        \n",
    "        icon = weather_file[i]['daily']['data'][0]['icon']\n",
    "        summary = weather_file[i]['daily']['data'][0]['summary']\n",
    "        temperatureMin = weather_file[i]['daily']['data'][0]['temperatureMin']\n",
    "        temperatureMax = weather_file[i]['daily']['data'][0]['temperatureMax']\n",
    "        precipProbability = weather_file[i]['daily']['data'][0]['precipProbability']\n",
    "        precipIntensity = weather_file[i]['daily']['data'][0]['precipIntensity']\n",
    "        \n",
    "        parsed_data[unixtime] = [icon, summary, temperatureMin, temperatureMax, precipProbability, precipIntensity]\n",
    "        \n",
    "    return parsed_data        "
   ]
  },
  {
   "cell_type": "code",
   "execution_count": 11,
   "metadata": {
    "collapsed": true
   },
   "outputs": [],
   "source": [
    "def parse_weather_data_alt(weather_file):\n",
    "    \n",
    "    parsed_data = {}\n",
    "    \n",
    "    for i in range(len(weather_file)):\n",
    "        unixtime = weather_file[i]['daily']['data'][0]['time']\n",
    "        \n",
    "        icon = weather_file[i]['daily']['data'][0]['icon']\n",
    "        summary = weather_file[i]['daily']['data'][0]['summary']\n",
    "        temperatureMin = weather_file[i]['daily']['data'][0]['temperatureMin']\n",
    "        temperatureMax = weather_file[i]['daily']['data'][0]['temperatureMax']\n",
    "        precipType = weather_file[i]['daily']['data'][0]['precipType']\n",
    "        \n",
    "        parsed_data[unixtime] = [icon, summary, temperatureMin, temperatureMax, precipType]\n",
    "        \n",
    "    return parsed_data        "
   ]
  },
  {
   "cell_type": "code",
   "execution_count": 5,
   "metadata": {
    "collapsed": true
   },
   "outputs": [],
   "source": [
    "api_key = \"8a8bd95f58ebd66ceda140c4cae56f91\"\n",
    "\n",
    "nyc_lat = \"40.748817\"\n",
    "nyc_lon = \"-73.985428\"\n",
    "\n",
    "tokyo_lat = \"35.685360\"\n",
    "tokyo_lon = \"139.753372\"\n",
    "\n",
    "nyc_weather = {}\n",
    "tokyo_weather = {}\n",
    "\n",
    "start_date = [2012,4,12]\n",
    "end_date = [2013,2,16]"
   ]
  },
  {
   "cell_type": "code",
   "execution_count": 6,
   "metadata": {
    "collapsed": false
   },
   "outputs": [],
   "source": [
    "nyc_weather = get_weather(start_date, end_date, nyc_lat, nyc_lon, api_key)"
   ]
  },
  {
   "cell_type": "code",
   "execution_count": 7,
   "metadata": {
    "collapsed": false
   },
   "outputs": [
    {
     "data": {
      "text/plain": [
       "{u'data': [{u'apparentTemperatureMax': 58.13,\n",
       "   u'apparentTemperatureMaxTime': 1334260800,\n",
       "   u'apparentTemperatureMin': 38.11,\n",
       "   u'apparentTemperatureMinTime': 1334228400,\n",
       "   u'cloudCover': 0.62,\n",
       "   u'dewPoint': 32.54,\n",
       "   u'humidity': 0.52,\n",
       "   u'icon': u'partly-cloudy-day',\n",
       "   u'moonPhase': 0.72,\n",
       "   u'precipIntensity': 0,\n",
       "   u'precipIntensityMax': 0,\n",
       "   u'precipProbability': 0,\n",
       "   u'pressure': 1014.94,\n",
       "   u'summary': u'Mostly cloudy throughout the day.',\n",
       "   u'sunriseTime': 1334226121,\n",
       "   u'sunsetTime': 1334273597,\n",
       "   u'temperatureMax': 58.13,\n",
       "   u'temperatureMaxTime': 1334260800,\n",
       "   u'temperatureMin': 43.55,\n",
       "   u'temperatureMinTime': 1334224800,\n",
       "   u'time': 1334203200,\n",
       "   u'visibility': 10,\n",
       "   u'windBearing': 344,\n",
       "   u'windSpeed': 10.42}]}"
      ]
     },
     "execution_count": 7,
     "metadata": {},
     "output_type": "execute_result"
    }
   ],
   "source": [
    "nyc_weather[0]['daily']"
   ]
  },
  {
   "cell_type": "code",
   "execution_count": 8,
   "metadata": {
    "collapsed": true
   },
   "outputs": [],
   "source": [
    "tokyo_weather = get_weather(start_date, end_date, tokyo_lat, tokyo_lon, api_key)"
   ]
  },
  {
   "cell_type": "code",
   "execution_count": 9,
   "metadata": {
    "collapsed": false
   },
   "outputs": [
    {
     "data": {
      "text/plain": [
       "{u'data': [{u'apparentTemperatureMax': 71.57,\n",
       "   u'apparentTemperatureMaxTime': 1334203200,\n",
       "   u'apparentTemperatureMin': 52.92,\n",
       "   u'apparentTemperatureMinTime': 1334170800,\n",
       "   u'cloudCover': 0.43,\n",
       "   u'dewPoint': 46.72,\n",
       "   u'humidity': 0.59,\n",
       "   u'icon': u'partly-cloudy-day',\n",
       "   u'moonPhase': 0.7,\n",
       "   u'precipType': u'rain',\n",
       "   u'pressure': 1003.13,\n",
       "   u'summary': u'Partly cloudy throughout the day.',\n",
       "   u'sunriseTime': 1334175202,\n",
       "   u'sunsetTime': 1334221938,\n",
       "   u'temperatureMax': 71.57,\n",
       "   u'temperatureMaxTime': 1334203200,\n",
       "   u'temperatureMin': 52.92,\n",
       "   u'temperatureMinTime': 1334170800,\n",
       "   u'time': 1334156400,\n",
       "   u'visibility': 7.06,\n",
       "   u'windBearing': 230,\n",
       "   u'windSpeed': 1.82}]}"
      ]
     },
     "execution_count": 9,
     "metadata": {},
     "output_type": "execute_result"
    }
   ],
   "source": [
    "tokyo_weather[0]['daily']"
   ]
  },
  {
   "cell_type": "code",
   "execution_count": 12,
   "metadata": {
    "collapsed": false
   },
   "outputs": [],
   "source": [
    "parsed_nyc_weather = parse_weather_data(nyc_weather)"
   ]
  },
  {
   "cell_type": "code",
   "execution_count": 17,
   "metadata": {
    "collapsed": false
   },
   "outputs": [
    {
     "data": {
      "text/plain": [
       "[u'partly-cloudy-day',\n",
       " u'Mostly cloudy throughout the day.',\n",
       " 43.55,\n",
       " 58.13,\n",
       " 0,\n",
       " 0]"
      ]
     },
     "execution_count": 17,
     "metadata": {},
     "output_type": "execute_result"
    }
   ],
   "source": [
    "parsed_nyc_weather[1334203200]"
   ]
  },
  {
   "cell_type": "code",
   "execution_count": 13,
   "metadata": {
    "collapsed": true
   },
   "outputs": [],
   "source": [
    "pickle.dump(parsed_nyc_weather, open(\"parsed_nyc_weather.pickle\", \"wb\"))"
   ]
  },
  {
   "cell_type": "code",
   "execution_count": 14,
   "metadata": {
    "collapsed": false
   },
   "outputs": [],
   "source": [
    "parsed_tokyo_weather = parse_weather_data_alt(tokyo_weather)"
   ]
  },
  {
   "cell_type": "code",
   "execution_count": 18,
   "metadata": {
    "collapsed": false
   },
   "outputs": [
    {
     "data": {
      "text/plain": [
       "[u'partly-cloudy-day',\n",
       " u'Partly cloudy throughout the day.',\n",
       " 52.92,\n",
       " 71.57,\n",
       " u'rain']"
      ]
     },
     "execution_count": 18,
     "metadata": {},
     "output_type": "execute_result"
    }
   ],
   "source": [
    "parsed_tokyo_weather[1334156400]"
   ]
  },
  {
   "cell_type": "code",
   "execution_count": 15,
   "metadata": {
    "collapsed": true
   },
   "outputs": [],
   "source": [
    "pickle.dump(parsed_tokyo_weather, open(\"parsed_tokyo_weather.pickle\", \"wb\"))"
   ]
  },
  {
   "cell_type": "code",
   "execution_count": 32,
   "metadata": {
    "collapsed": true
   },
   "outputs": [],
   "source": [
    "from dateutil import parser\n",
    "\n",
    "def convertTimeStamp(ts):\n",
    "    ts = datetime.datetime.fromtimestamp(int(ts)).strftime('%Y%m%d')    \n",
    "    return ts"
   ]
  },
  {
   "cell_type": "code",
   "execution_count": 57,
   "metadata": {
    "collapsed": true
   },
   "outputs": [],
   "source": [
    "def classify_weather(parsed_weather):\n",
    "    \n",
    "    rain_words = ['rain', 'raining', 'rainy', 'shower', 'showers', 'hail', 'hailing', 'drizzle']\n",
    "    snow_words = ['snow', 'snowing', 'snowy', 'snowstorm', 'flurries', 'blizzard']\n",
    "\n",
    "    cold_days = []\n",
    "    hot_days = []\n",
    "    rainy_days = []\n",
    "    snow_days = []\n",
    "    no_rain_or_snow_days = []\n",
    "\n",
    "    for key in parsed_weather:\n",
    "        \n",
    "        if int(parsed_weather[key][3]) < 53:\n",
    "            cold_days.append(convertTimeStamp(str(key)))\n",
    "        if int(parsed_weather[key][3]) > 78:\n",
    "            hot_days.append(convertTimeStamp(str(key)))\n",
    "        if any(word in parsed_weather[key][1] for word in rain_words):\n",
    "            rainy_days.append(convertTimeStamp(str(key)))\n",
    "        if any(word in parsed_weather[key][1] for word in snow_words):\n",
    "            snow_days.append(convertTimeStamp(str(key)))\n",
    "        if convertTimeStamp(str(key)) not in rainy_days and convertTimeStamp(str(key)) not in snow_days:\n",
    "            no_rain_or_snow_days.append(convertTimeStamp(str(key)))\n",
    "            \n",
    "    return cold_days, hot_days, rainy_days, snow_days, no_rain_or_snow_days"
   ]
  },
  {
   "cell_type": "code",
   "execution_count": 58,
   "metadata": {
    "collapsed": false
   },
   "outputs": [],
   "source": [
    "nyc_cold_days = []\n",
    "nyc_hot_days = []\n",
    "nyc_rainy_days = []\n",
    "nyc_snow_days = []\n",
    "nyc_no_rain_or_snow_days = []\n",
    "\n",
    "nyc_cold_days, nyc_hot_days, nyc_rainy_days, nyc_snow_days, \n",
    "nyc_no_rain_or_snow_days = classify_weather(parsed_nyc_weather)\n",
    "\n",
    "tokyo_cold_days = []\n",
    "tokyo_hot_days = []\n",
    "tokyo_rainy_days = []\n",
    "tokyo_snow_days = []\n",
    "tokyo_no_rain_or_snow_days = []\n",
    "\n",
    "tokyo_cold_days, tokyo_hot_days, tokyo_rainy_days, tokyo_snow_days, \n",
    "tokyo_no_rain_or_snow_days = classify_weather(parsed_tokyo_weather)"
   ]
  },
  {
   "cell_type": "code",
   "execution_count": null,
   "metadata": {
    "collapsed": true
   },
   "outputs": [],
   "source": [
    "pickle.dump(nyc_cold_days, open(\"nyc_cold_days.pickle\", \"wb\"))\n",
    "pickle.dump(nyc_hot_days, open(\"nyc_hot_days.pickle\", \"wb\"))\n",
    "pickle.dump(nyc_rainy_days, open(\"nyc_cold_days.pickle\", \"wb\"))\n",
    "pickle.dump(nyc_snow_days, open(\"nyc_cold_days.pickle\", \"wb\"))\n",
    "pickle.dump(nyc_no_rain_or_snow_days, open(\"nyc_no_rain_or_snow_days.pickle\", \"wb\"))\n",
    "\n",
    "pickle.dump(tokyo_cold_days, open(\"nyc_cold_days.pickle\", \"wb\"))\n",
    "pickle.dump(nyc_hot_days, open(\"nyc_hot_days.pickle\", \"wb\"))\n",
    "pickle.dump(nyc_rainy_days, open(\"nyc_cold_days.pickle\", \"wb\"))\n",
    "pickle.dump(nyc_snow_days, open(\"nyc_cold_days.pickle\", \"wb\"))\n",
    "pickle.dump(nyc_no_rain_or_snow_days, open(\"nyc_no_rain_or_snow_days.pickle\", \"wb\"))"
   ]
  }
 ],
 "metadata": {
  "kernelspec": {
   "display_name": "Python 2",
   "language": "python",
   "name": "python2"
  },
  "language_info": {
   "codemirror_mode": {
    "name": "ipython",
    "version": 2
   },
   "file_extension": ".py",
   "mimetype": "text/x-python",
   "name": "python",
   "nbconvert_exporter": "python",
   "pygments_lexer": "ipython2",
   "version": "2.7.11"
  }
 },
 "nbformat": 4,
 "nbformat_minor": 0
}
